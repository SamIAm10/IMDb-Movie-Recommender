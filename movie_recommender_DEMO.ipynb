{
 "cells": [
  {
   "cell_type": "markdown",
   "metadata": {
    "id": "xCVTZ4XWGRz-"
   },
   "source": [
    "# IMDb Movie Recommender - Demo Version\n",
    "This version loads a subset of the IMDb dataset stored as a CSV file for demonstration purposes. The full source code can be found at https://github.com/SamIAm10/IMDb-Movie-Recommender/blob/main/movie_recommender.ipynb\n",
    "\n",
    "To try the notebook for yourself, go to Cell > Run All"
   ]
  },
  {
   "cell_type": "code",
   "execution_count": null,
   "metadata": {
    "id": "WPZF4Dqy8mFJ"
   },
   "outputs": [],
   "source": [
    "# import necessary libraries and ML tools\n",
    "import numpy as np\n",
    "import pandas as pd\n",
    "from sklearn.feature_extraction.text import CountVectorizer\n",
    "from sklearn.metrics.pairwise import cosine_similarity"
   ]
  },
  {
   "cell_type": "markdown",
   "metadata": {
    "id": "6HvsgDqoHNIG"
   },
   "source": [
    "## Load the dataset"
   ]
  },
  {
   "cell_type": "code",
   "execution_count": null,
   "metadata": {
    "id": "7r6FgPdn89d9"
   },
   "outputs": [],
   "source": [
    "popular_movies_df = pd.read_csv('popular_movies_df.csv', header=0).fillna('')"
   ]
  },
  {
   "cell_type": "markdown",
   "metadata": {
    "id": "QPsWGtm_HTkA"
   },
   "source": [
    "## Take user input and give movie recommendations"
   ]
  },
  {
   "cell_type": "code",
   "execution_count": null,
   "metadata": {
    "colab": {
     "base_uri": "https://localhost:8080/"
    },
    "id": "CoMNmyUI9QF6",
    "outputId": "d23aeffd-89ea-4ae5-86a2-2041a2c6f8ca"
   },
   "outputs": [
    {
     "name": "stdout",
     "output_type": "stream",
     "text": [
      "Enter one or more of your favorite movies, separated by commas:\n",
      "infinity war, star wars, jurassic park\n",
      "\n",
      "How many recommendations would you like to see?\n",
      "20\n",
      "\n",
      "If you liked:\n",
      "• Avengers: Infinity War\n",
      "• Star Wars: Episode IV - A New Hope\n",
      "• Jurassic Park\n",
      "\n",
      "You might also like:\n",
      "1. The Lost World: Jurassic Park\n",
      "2. Avengers: Endgame\n",
      "3. Captain America: The First Avenger\n",
      "4. Captain America: Civil War\n",
      "5. Captain America: The Winter Soldier\n",
      "6. Iron Man 2\n",
      "7. Spider-Man\n",
      "8. The Incredible Hulk\n",
      "9. Solo: A Star Wars Story\n",
      "10. Star Wars: Episode I - The Phantom Menace\n",
      "11. Star Wars: Episode III - Revenge of the Sith\n",
      "12. Ready Player One\n",
      "13. The Last Starfighter\n",
      "14. Stealth\n",
      "15. Transformers: Dark of the Moon\n",
      "16. Transformers: Age of Extinction\n",
      "17. Bumblebee\n",
      "18. Avengers: Age of Ultron\n",
      "19. Timeline\n",
      "20. Jurassic World: Fallen Kingdom\n"
     ]
    }
   ],
   "source": [
    "# take full or partial movie titles from user input\n",
    "input_movies = input('Enter one or more of your favorite movies, separated by commas:\\n').split(',')\n",
    "\n",
    "try:\n",
    "    # collect data for each movie\n",
    "    full_input_movie_titles = [] # list of full movie titles from user input\n",
    "    combined_movie_features = '' # combined features of input movies\n",
    "    \n",
    "    for movie in input_movies:\n",
    "        attributes = popular_movies_df[popular_movies_df['primaryTitle'].str.contains(movie.strip(), case=False)]\n",
    "        full_input_movie_titles.append(attributes['primaryTitle'].values[0])\n",
    "        for movie_features in attributes[['genres', 'directors', 'writers']].values[0]:\n",
    "            combined_movie_features += movie_features + ' '\n",
    "\n",
    "    # build the features series\n",
    "    features = popular_movies_df['genres'] + ' ' + popular_movies_df['directors'] + ' ' + popular_movies_df['writers']\n",
    "    features = features.append(pd.Series([combined_movie_features]), ignore_index=True)\n",
    "    \n",
    "    # calculate the cosine similarity using movie features\n",
    "    cv = CountVectorizer()\n",
    "    cv_matrix = cv.fit_transform(features)\n",
    "    cos_sim = cosine_similarity(cv_matrix)\n",
    "\n",
    "    # obtain a list of recommended movies\n",
    "    recommended_movies = list(enumerate(cos_sim[-1]))\n",
    "    recommended_movies.pop() # last element is the combined movie features, so we delete it\n",
    "\n",
    "    # sort movies by decreasing similarity\n",
    "    recommended_movies_sorted = sorted(recommended_movies, key=lambda x:x[1], reverse=True)\n",
    "\n",
    "    # return a list of movies, ordered from most to least recommended\n",
    "    max_recs = int(input('\\nHow many recommendations would you like to see?\\n')) # max number of recommendations\n",
    "    assert(max_recs > 0)\n",
    "    \n",
    "    print(\"\\nIf you liked:\")\n",
    "    for movie in full_input_movie_titles:\n",
    "        print('•', movie)\n",
    "    print('\\nYou might also like:')\n",
    "    \n",
    "    num_recs = 1\n",
    "    for movie in recommended_movies_sorted:\n",
    "        title = popular_movies_df[popular_movies_df.index == movie[0]]['primaryTitle'].values[0]\n",
    "        if title not in full_input_movie_titles: # don't recommend a movie the user already watched!\n",
    "            print(str(num_recs) + '.', title)\n",
    "            num_recs += 1\n",
    "            if num_recs > max_recs:\n",
    "                break\n",
    "\n",
    "# error handling\n",
    "except IndexError:\n",
    "    print('\\nSorry, one or more of the titles you entered do not exist in our records. Please try again.')\n",
    "except (ValueError, AssertionError):\n",
    "    print('\\nPlease enter a valid number.')"
   ]
  }
 ],
 "metadata": {
  "colab": {
   "collapsed_sections": [],
   "name": "movie_recommender.ipynb",
   "provenance": [],
   "toc_visible": true
  },
  "kernelspec": {
   "display_name": "Python 3",
   "language": "python",
   "name": "python3"
  },
  "language_info": {
   "codemirror_mode": {
    "name": "ipython",
    "version": 3
   },
   "file_extension": ".py",
   "mimetype": "text/x-python",
   "name": "python",
   "nbconvert_exporter": "python",
   "pygments_lexer": "ipython3",
   "version": "3.8.5"
  }
 },
 "nbformat": 4,
 "nbformat_minor": 1
}
