{
  "nbformat": 4,
  "nbformat_minor": 0,
  "metadata": {
    "colab": {
      "name": "movie_recommender.ipynb",
      "provenance": [],
      "collapsed_sections": [],
      "toc_visible": true
    },
    "kernelspec": {
      "name": "python3",
      "display_name": "Python 3"
    }
  },
  "cells": [
    {
      "cell_type": "markdown",
      "metadata": {
        "id": "xCVTZ4XWGRz-"
      },
      "source": [
        "# IMDb Movie Recommender - Demo Version\r\n",
        "This version loads a subset of the IMDb dataset stored as a CSV file for demonstration purposes. The full source code can be found at https://github.com/SamIAm10/IMDb-Movie-Recommender/blob/main/movie_recommender.ipynb\r\n",
        "\r\n",
        "To try the notebook for yourself, go to Kernel > Restart & Run All"
      ]
    },
    {
      "cell_type": "code",
      "metadata": {
        "id": "WPZF4Dqy8mFJ"
      },
      "source": [
        "import numpy as np\r\n",
        "import pandas as pd\r\n",
        "from sklearn.feature_extraction.text import CountVectorizer\r\n",
        "from sklearn.metrics.pairwise import cosine_similarity"
      ],
      "execution_count": null,
      "outputs": []
    },
    {
      "cell_type": "markdown",
      "metadata": {
        "id": "6HvsgDqoHNIG"
      },
      "source": [
        "## Load the dataset"
      ]
    },
    {
      "cell_type": "code",
      "metadata": {
        "id": "7r6FgPdn89d9"
      },
      "source": [
        "popular_movies_df = pd.read_csv('popular_movies_df.csv', header=0).fillna('')"
      ],
      "execution_count": null,
      "outputs": []
    },
    {
      "cell_type": "markdown",
      "metadata": {
        "id": "QPsWGtm_HTkA"
      },
      "source": [
        "## Take user input and give movie recommendations"
      ]
    },
    {
      "cell_type": "code",
      "metadata": {
        "id": "CoMNmyUI9QF6",
        "colab": {
          "base_uri": "https://localhost:8080/"
        },
        "outputId": "d23aeffd-89ea-4ae5-86a2-2041a2c6f8ca"
      },
      "source": [
        "# take full or partial movie titles from user input\r\n",
        "input_movies = input('Enter one or more of your favorite movies, separated by commas:\\n').split(',')\r\n",
        "\r\n",
        "try:\r\n",
        "    # collect data for each movie\r\n",
        "    full_input_movie_titles = [] # list of full movie titles from user input\r\n",
        "    combined_movie_features = '' # combined features of input movies\r\n",
        "    \r\n",
        "    for movie in input_movies:\r\n",
        "        attributes = popular_movies_df[popular_movies_df['primaryTitle'].str.contains(movie.strip(), case=False)]\r\n",
        "        full_input_movie_titles.append(attributes['primaryTitle'].values[0])\r\n",
        "        for movie_features in attributes[['genres', 'directors', 'writers']].values[0]:\r\n",
        "            combined_movie_features += movie_features + ' '\r\n",
        "\r\n",
        "    # build the features series\r\n",
        "    features = popular_movies_df['genres'] + ' ' + popular_movies_df['directors'] + ' ' + popular_movies_df['writers']\r\n",
        "    features = features.append(pd.Series([combined_movie_features]), ignore_index=True)\r\n",
        "    \r\n",
        "    # calculate the cosine similarity using movie features\r\n",
        "    cv = CountVectorizer()\r\n",
        "    cv_matrix = cv.fit_transform(features)\r\n",
        "    cos_sim = cosine_similarity(cv_matrix)\r\n",
        "\r\n",
        "    # obtain a list of recommended movies\r\n",
        "    recommended_movies = list(enumerate(cos_sim[-1]))\r\n",
        "    recommended_movies.pop() # last element is the combined movie features, so we delete it\r\n",
        "\r\n",
        "    # sort movies by decreasing similarity\r\n",
        "    recommended_movies_sorted = sorted(recommended_movies, key=lambda x:x[1], reverse=True)\r\n",
        "\r\n",
        "    # return a list of movies, ordered from most to least recommended\r\n",
        "    max_recs = int(input('\\nHow many recommendations would you like to see?\\n')) # max number of recommendations\r\n",
        "    assert(max_recs > 0)\r\n",
        "    \r\n",
        "    print(\"\\nIf you liked:\")\r\n",
        "    for movie in full_input_movie_titles:\r\n",
        "        print('•', movie)\r\n",
        "    print('\\nYou might also like:')\r\n",
        "    \r\n",
        "    num_recs = 1\r\n",
        "    for movie in recommended_movies_sorted:\r\n",
        "        title = popular_movies_df[popular_movies_df.index == movie[0]]['primaryTitle'].values[0]\r\n",
        "        if title not in full_input_movie_titles: # don't recommend a movie the user already watched!\r\n",
        "            print(str(num_recs) + '.', title)\r\n",
        "            num_recs += 1\r\n",
        "            if num_recs > max_recs:\r\n",
        "                break\r\n",
        "\r\n",
        "# error handling\r\n",
        "except IndexError:\r\n",
        "    print('\\nSorry, one or more of the titles you entered do not exist in our records. Please try again.')\r\n",
        "except (ValueError, AssertionError):\r\n",
        "    print('\\nPlease enter a valid number.')"
      ],
      "execution_count": null,
      "outputs": [
        {
          "output_type": "stream",
          "text": [
            "Enter one or more of your favorite movies, separated by commas:\n",
            "infinity war, star wars, jurassic park\n",
            "\n",
            "How many recommendations would you like to see?\n",
            "20\n",
            "\n",
            "If you liked:\n",
            "• Avengers: Infinity War\n",
            "• Star Wars: Episode IV - A New Hope\n",
            "• Jurassic Park\n",
            "\n",
            "You might also like:\n",
            "1. The Lost World: Jurassic Park\n",
            "2. Avengers: Endgame\n",
            "3. Captain America: The First Avenger\n",
            "4. Captain America: Civil War\n",
            "5. Captain America: The Winter Soldier\n",
            "6. Iron Man 2\n",
            "7. Spider-Man\n",
            "8. The Incredible Hulk\n",
            "9. Solo: A Star Wars Story\n",
            "10. Star Wars: Episode I - The Phantom Menace\n",
            "11. Star Wars: Episode III - Revenge of the Sith\n",
            "12. Ready Player One\n",
            "13. The Last Starfighter\n",
            "14. Stealth\n",
            "15. Transformers: Dark of the Moon\n",
            "16. Transformers: Age of Extinction\n",
            "17. Bumblebee\n",
            "18. Avengers: Age of Ultron\n",
            "19. Timeline\n",
            "20. Jurassic World: Fallen Kingdom\n"
          ],
          "name": "stdout"
        }
      ]
    }
  ]
}